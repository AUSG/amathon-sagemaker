{
 "cells": [
  {
   "cell_type": "markdown",
   "metadata": {},
   "source": [
    "# Chapter 02\n",
    "\n",
    "## 1. Perceptron\n",
    "\n",
    "<img src=\"./images/Perceptron.png\" alt=\"Neural\" style=\"height: 300px;\"/>\n",
    "\n",
    "- Frank Rosenblatt, 1957\n",
    "- 신경망(딥러닝)의 기초\n",
    "- Input -> Processing -> Output\n",
    "- Input에 가중치를 곱한다.\n",
    "- 설정해 놓은 기준값에 따라 Output이 결정된다.\n",
    "\n",
    "#### 1) 2차원\n",
    "- code\n",
    "```\n",
    "    if (w1*x1 + w2*x2) <= b :\n",
    "        return 0\n",
    "     elif (w1*x1 + w2*x2) > b :\n",
    "        return 1\n",
    "```\n",
    "\n",
    "<img src=\"./images/Perceptron2-1.png\" alt=\"Neural\" style=\"height: 300px; float : left;\"/>\n",
    "<img src=\"./images/Perceptron2-2.png\" alt=\"Neural\" style=\"height: 300px;\"/>"
   ]
  },
  {
   "cell_type": "code",
   "execution_count": 2,
   "metadata": {
    "scrolled": true
   },
   "outputs": [
    {
     "name": "stdout",
     "output_type": "stream",
     "text": [
      "0.5\n",
      "0\n"
     ]
    }
   ],
   "source": [
    "import numpy as np\n",
    "\n",
    "X = np.array([1.0, 2.0])\n",
    "W = np.array([0.1, 0.2])\n",
    "b = 0.5\n",
    "\n",
    "tmp = X*W\n",
    "value = np.sum(tmp)\n",
    "print(value)\n",
    "if value <= b:\n",
    "    print(0)\n",
    "elif value > b:\n",
    "    print(1)"
   ]
  },
  {
   "cell_type": "markdown",
   "metadata": {},
   "source": [
    "#### 2) 3차원\n",
    "- code\n",
    "```\n",
    "    if (w1*x1 + w2*x2 + w3*x3) <= b :\n",
    "        return 0\n",
    "     elif (w1*x1 + w2*x2 + w3*x3) > b :\n",
    "        return 1\n",
    "```\n",
    "\n",
    "<img src=\"./images/Perceptron3-1.png\" alt=\"Neural\" style=\"height: 300px; float : left;\"/>\n",
    "<img src=\"./images/Perceptron3-2.jpg\" alt=\"Neural\" style=\"height: 300px;\"/>"
   ]
  },
  {
   "cell_type": "code",
   "execution_count": 10,
   "metadata": {},
   "outputs": [
    {
     "name": "stdout",
     "output_type": "stream",
     "text": [
      "1.4\n",
      "1\n"
     ]
    }
   ],
   "source": [
    "X = np.array([1.0, 2.0, 3.0])\n",
    "W = np.array([0.1, 0.2, 0.3])\n",
    "b = 0.5\n",
    "\n",
    "tmp = X*W\n",
    "value = np.sum(tmp)\n",
    "print(value)\n",
    "if value <= b:\n",
    "    print(0)\n",
    "elif value > b:\n",
    "    print(1)"
   ]
  },
  {
   "cell_type": "markdown",
   "metadata": {},
   "source": [
    "### ***싱글 퍼셉트론으로는 곡선형 분리가 불가능하다***"
   ]
  },
  {
   "cell_type": "markdown",
   "metadata": {},
   "source": [
    "## 2. Multi-layer perceptron\n",
    "\n",
    "- 여러 Perceptron을 층층이 쌓아 놓은 것.\n",
    "- 층이 깊을수록 표현되는 데이터의 의미가 다양해진다.\n",
    "- 곡선형 분리가 가능하다.\n",
    "\n",
    "### 1) Logic Gate\n",
    "- 순서대로 AND, OR, XOR\n",
    "- XOR는 선형 분리가 불가능\n",
    "<img src=\"./images/Gates.jpeg\" alt=\"Neural\" style=\"height: 300px;\"/>"
   ]
  },
  {
   "cell_type": "code",
   "execution_count": 7,
   "metadata": {},
   "outputs": [],
   "source": [
    "# Signle Perceptron\n",
    "def AND(x1, x2):\n",
    "    x = np.array([x1, x2])\n",
    "    w = np.array([0.5, 0.5])\n",
    "    b = -0.7\n",
    "    tmp = np.sum(w*x) + b\n",
    "    if tmp <= 0:\n",
    "        return 0\n",
    "    else:\n",
    "        return 1\n",
    "\n",
    "# Signle Perceptron\n",
    "def NAND(x1, x2):\n",
    "    x = np.array([x1, x2])\n",
    "    w = np.array([-0.5, -0.5])\n",
    "    b = 0.7\n",
    "    tmp = np.sum(w*x) + b\n",
    "    if tmp <= 0:\n",
    "        return 0\n",
    "    else:\n",
    "        return 1\n",
    "\n",
    "# Signle Perceptron\n",
    "def OR(x1, x2):\n",
    "    x = np.array([x1, x2])\n",
    "    w = np.array([0.5, 0.5])\n",
    "    b = -0.2\n",
    "    tmp = np.sum(w*x) + b\n",
    "    if tmp <= 0:\n",
    "        return 0\n",
    "    else:\n",
    "        return 1"
   ]
  },
  {
   "cell_type": "code",
   "execution_count": 8,
   "metadata": {},
   "outputs": [],
   "source": [
    "## Multi Perceptron\n",
    "def XOR(x1, x2):\n",
    "    s1 = NAND(x1, x2) # Perceptron 1\n",
    "    s2 = OR(x1, x2)   # Perceptron 2\n",
    "    y = AND(s1, s2)   # Perceptron 3\n",
    "    return y"
   ]
  },
  {
   "cell_type": "code",
   "execution_count": 9,
   "metadata": {},
   "outputs": [
    {
     "name": "stdout",
     "output_type": "stream",
     "text": [
      "0\n",
      "1\n",
      "1\n",
      "0\n"
     ]
    }
   ],
   "source": [
    "print(XOR(0,0))\n",
    "print(XOR(1,0))\n",
    "print(XOR(0,1))\n",
    "print(XOR(1,1))"
   ]
  },
  {
   "cell_type": "markdown",
   "metadata": {},
   "source": [
    "### ***싱글 퍼셉트론을 쌓으니 곡선형 분리가 가능하다!***\n",
    "\n",
    "- Multi-layer perceptron으로 복잡한 함수의 표현이 가능"
   ]
  },
  {
   "cell_type": "code",
   "execution_count": null,
   "metadata": {},
   "outputs": [],
   "source": []
  }
 ],
 "metadata": {
  "kernelspec": {
   "display_name": "Python 3",
   "language": "python",
   "name": "python3"
  },
  "language_info": {
   "codemirror_mode": {
    "name": "ipython",
    "version": 3
   },
   "file_extension": ".py",
   "mimetype": "text/x-python",
   "name": "python",
   "nbconvert_exporter": "python",
   "pygments_lexer": "ipython3",
   "version": "3.6.4"
  }
 },
 "nbformat": 4,
 "nbformat_minor": 2
}
