{
 "cells": [
  {
   "cell_type": "markdown",
   "metadata": {},
   "source": [
    "# Chapter 03\n",
    "\n",
    "## 1. Neural Network (신경망)\n",
    "<img src=\"./images/neuralnet.png\" alt=\"Neural\" style=\"height: 300px;\"/>\n",
    "\n",
    "- 기존 Perceptron은 가중치 설정을 수작업으로 해주어야 한다.\n",
    "- Neural Network는 학습을 통해 적절한 가중치로 스스로 업데이트\n",
    "- 인간의 개입을 최소화 한다.\n",
    "- 발전된 Multi-layer Perceptron\n",
    "- 입력층, 은닉층, 출력층 으로 구성된다.\n",
    "- 은닉층에는 다수의 층이 포함될 수 있다.\n",
    "\n",
    "### 1) Perceptron 변형\n",
    "- ***f(x) <= b***\n",
    "- ***f(x) -b <= 0***\n",
    "- w0 = -b\n",
    "<img src=\"./images/convertedpt.png\" alt=\"Neural\" style=\"height: 300px;\"/>\n",
    "### 2) 변형된 식\n",
    "<img src=\"./images/function1.png\" alt=\"Neural\" style=\"height: 50px;\"/>\n",
    "### 3) 간결한 형태\n",
    "<img src=\"./images/function2.png\" alt=\"Neural\" style=\"height: 30px;\"/>\n",
    "<img src=\"./images/function3.png\" alt=\"Neural\" style=\"height: 50px;\"/>\n",
    "\n",
    "***h(x)는 활성화 함수(Activation Function)***"
   ]
  },
  {
   "cell_type": "markdown",
   "metadata": {},
   "source": [
    "## 2. Activation Function\n",
    "- 뉴런에 입력된 값을 변환한다.\n",
    "- 뉴런의 출력을 조절한다.\n",
    "- 출력을 통해 데이터에 의미를 부여한다.\n",
    "<img src=\"./images/ActivationFunction.png\" alt=\"Neural\" style=\"height: 300px;\"/>\n",
    "### 1) Step function\n",
    "<br>\n",
    "    - 임계값을 경계로 출력이 바뀌는 함수\n",
    "\n"
   ]
  },
  {
   "cell_type": "code",
   "execution_count": 6,
   "metadata": {},
   "outputs": [
    {
     "data": {
      "image/png": "[encoded data removed]",
      "text/plain": [
       "<matplotlib.figure.Figure at 0x11079f7f0>"
      ]
     },
     "metadata": {},
     "output_type": "display_data"
    }
   ],
   "source": [
    "import numpy as np\n",
    "import matplotlib.pylab as plt\n",
    "\n",
    "# 1. Convert [x1,x2,x3,x4,....] to [bool,bool,bool,...]\n",
    "# 2. Convert [bool,bool,...] to [1,0,0,1,....]\n",
    "def step_function(x):\n",
    "    y = x > 0 \n",
    "    return y.astype(np.int)\n",
    "\n",
    "x = np.arange(-5.0,5.0,0.1)\n",
    "y = step_function(x)\n",
    "plt.plot(x,y)\n",
    "plt.ylim(-0.1, 1.1) # y축 범위 지정\n",
    "plt.show()"
   ]
  },
  {
   "cell_type": "markdown",
   "metadata": {},
   "source": [
    "### 2) Sigmoid function\n",
    "   - 리턴된 배열의 모든 값들이 0과 1사이의 값이 된다."
   ]
  },
  {
   "cell_type": "code",
   "execution_count": 7,
   "metadata": {},
   "outputs": [
    {
     "data": {
      "image/png": "[encoded data removed]",
      "text/plain": [
       "<matplotlib.figure.Figure at 0x11083f0f0>"
      ]
     },
     "metadata": {},
     "output_type": "display_data"
    }
   ],
   "source": [
    "# 1. Convert [x1,x2,x3,x4,...] to [0.x,0.x,0.x,...]\n",
    "# 2. All results are between 0 and 1\n",
    "def sigmoid(x):\n",
    "    return 1 / (1+np.exp(-x))\n",
    "\n",
    "x = np.arange(-5.0,5.0,0.1)\n",
    "y = sigmoid(x)\n",
    "plt.plot(x,y)\n",
    "plt.ylim(-0.1, 1.1) # y축 범위 지정\n",
    "plt.show()"
   ]
  },
  {
   "cell_type": "markdown",
   "metadata": {},
   "source": [
    "### 3) ReLU\n",
    "- 최근 가장 많이 사용된다.\n",
    "- input >= 0 => return input\n",
    "- input < 0 0 => return 0"
   ]
  },
  {
   "cell_type": "code",
   "execution_count": 8,
   "metadata": {},
   "outputs": [
    {
     "data": {
      "image/png": "[encoded data removed]",
      "text/plain": [
       "<matplotlib.figure.Figure at 0x1108e6668>"
      ]
     },
     "metadata": {},
     "output_type": "display_data"
    }
   ],
   "source": [
    "def relu(x):\n",
    "    return np.maximum(0,x)\n",
    "\n",
    "np.arange(-0.5, 0.5, 0.1)\n",
    "y = relu(x)\n",
    "plt.plot(x,y)\n",
    "plt.ylim(-1.1,5.0)\n",
    "plt.show()"
   ]
  },
  {
   "cell_type": "markdown",
   "metadata": {},
   "source": [
    "### 4) Identify function\n",
    "- 출력층에서 사용된다.\n",
    "- 항등함수"
   ]
  },
  {
   "cell_type": "code",
   "execution_count": 9,
   "metadata": {},
   "outputs": [],
   "source": [
    "def identify_function(x):\n",
    "    return x"
   ]
  },
  {
   "cell_type": "markdown",
   "metadata": {},
   "source": [
    "### 5) Softmax\n",
    "- 출력층에서 사용된다.\n",
    "- 분류 문제에 많이 사용된다.\n",
    "- 리턴 배열의 모든 원소의 합이 1이다 => 확률로 해석이 가능\n",
    "- 각 원소들간의 대소 관계는 변하지 않는다."
   ]
  },
  {
   "cell_type": "code",
   "execution_count": 11,
   "metadata": {},
   "outputs": [],
   "source": [
    "def softmax(x):\n",
    "    c = np.max(x)\n",
    "    exp_x = np.exp(x-c)\n",
    "    sum_exp_x = np.sum(exp_x)\n",
    "    y = exp_x / sum_exp_x\n",
    "    \n",
    "    return y\n",
    "\n",
    "# e의 지수승의 오버플로우를 대비한 softmax\n",
    "# def softmax(x):\n",
    "#     if x.ndim == 2:\n",
    "#         x = x.T\n",
    "#         x = x - np.max(x, axis=0) # axis 0 은 모든 값들을 1차원으로 펼친 후 비교, 1은 행 별로 가장 큰 값 비교.\n",
    "#         y = np.exp(x) / np.sum(np.exp(x), axis=0)\n",
    "#         return y.T \n",
    "\n",
    "#     x = x - np.max(x) # 오버플로 대책\n",
    "#     return np.exp(x) / np.sum(np.exp(x))"
   ]
  }
 ],
 "metadata": {
  "kernelspec": {
   "display_name": "Python 3",
   "language": "python",
   "name": "python3"
  },
  "language_info": {
   "codemirror_mode": {
    "name": "ipython",
    "version": 3
   },
   "file_extension": ".py",
   "mimetype": "text/x-python",
   "name": "python",
   "nbconvert_exporter": "python",
   "pygments_lexer": "ipython3",
   "version": "3.6.4"
  }
 },
 "nbformat": 4,
 "nbformat_minor": 2
}
