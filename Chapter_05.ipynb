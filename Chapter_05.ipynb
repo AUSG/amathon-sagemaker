{
 "cells": [
  {
   "cell_type": "markdown",
   "metadata": {},
   "source": [
    "# Chapter 05\n",
    "\n",
    "- 학습을 통해 최적의 가중치를 찾아가는 방법에 대해 알아본다.\n",
    "- 신경망 학습의 지표인 Loss function에 대해 알아본다.\n",
    "\n",
    "## 1. 데이터 주도학습\n",
    "<img src=\"./images/compare.png\" alt=\"Neural\" style=\"height: 300px;\"/>\n",
    "- 신경망은 이미지를 '있는 그대로' 학습한다.\n",
    "- Deeplearning == End-to-end machine learning\n",
    "\n",
    "## 2. 데이터 분할\n",
    "- 데이터를 훈련데이터와 시험데이터로 분할 (Training Data & Test Data)\n",
    "- 훈련데이터를 사용해 가중치 학습 및 모델 생성\n",
    "- 시험데이터를 사용해 생성된 모델의 정확성 테스트\n",
    "- 분할하는 이유 : 모델의 범용적인 능력을 평가하기 위해. 오버피팅 방지\n",
    "- Overfitting : 특정 데이터들에만 지나치게 정확성이 높은 데이터.\n",
    "\n",
    "## 3. Loss function\n",
    "- 신경망 성능의 ***나쁨*** 을 나타내는 지표\n",
    "- 값이 클 수록 정답과의 오차가 크다.\n",
    "- ***나쁨*** 이 점점 적어진다 => 성능이 점점 좋아진다.\n",
    "\n",
    "### 1) 평균제곱오차 (Mean Square Error)\n",
    "- 계산의 편의를 위해 1/2를 사용한다. 원래는 1/n 이다.\n",
    "<img src=\"./images/mse.jpeg\" alt=\"Neural\" style=\"height: 100px;\"/>"
   ]
  },
  {
   "cell_type": "markdown",
   "metadata": {},
   "source": [
    "- y : 신경망이 추측한 값\n",
    "- t : 정답 레이블의 값"
   ]
  },
  {
   "cell_type": "code",
   "execution_count": 7,
   "metadata": {},
   "outputs": [],
   "source": [
    "import numpy as np\n",
    "\n",
    "def mean_squared_error(y, t):\n",
    "    return 0.5 * np.sum((y-t)**2)"
   ]
  },
  {
   "cell_type": "code",
   "execution_count": 8,
   "metadata": {},
   "outputs": [
    {
     "data": {
      "text/plain": [
       "0.09260000000000002"
      ]
     },
     "execution_count": 8,
     "metadata": {},
     "output_type": "execute_result"
    }
   ],
   "source": [
    "t= [0,1,0,0,0,0,0,0,0,0]\n",
    "y = [0.1,0.4,0.1,0.15,0.05,0.05,0.06,0.04,0.05,0]\n",
    "\n",
    "t= [0,1,0,0,0,0,0,0,0,0]\n",
    "y = [0.1,0.6,0,0.05,0.05,0.05,0.06,0.04,0.05,0]\n",
    "\n",
    "mean_squared_error(np.array(y),np.array(t))"
   ]
  },
  {
   "cell_type": "markdown",
   "metadata": {},
   "source": [
    "### 2) 교차 엔트로피 오차 (Cross Entropy Error)\n",
    "<img src=\"./images/cee_1.jpeg\" alt=\"Neural\" style=\"height: 100px;\"/>\n",
    "- y : 신경망이 추측한 값\n",
    "- t : 정답 레이블의 값"
   ]
  },
  {
   "cell_type": "code",
   "execution_count": 9,
   "metadata": {},
   "outputs": [],
   "source": [
    "def cross_entropy_error_normal(y, t):\n",
    "    delta = 1e-7 # log에 0이 안 들어가게 하려는 값.\n",
    "    return -np.sum(t*np.log(y+delta))"
   ]
  },
  {
   "cell_type": "markdown",
   "metadata": {},
   "source": [
    "#### 복수의 데이터를 위한 CEE\n",
    "<img src=\"./images/cee_2.jpeg\" alt=\"Neural\" style=\"height: 100px;\"/>\n",
    "- N으로 나누어 정규화.\n",
    "- N으로 나누어 평균손실함수를 구한다."
   ]
  },
  {
   "cell_type": "markdown",
   "metadata": {},
   "source": [
    "## 4. 미니배치\n",
    "- 무작위로 N개의 데이터를 추출하여 학습한다.\n",
    "- 자세한 내용은 생략"
   ]
  },
  {
   "cell_type": "code",
   "execution_count": 10,
   "metadata": {},
   "outputs": [],
   "source": [
    "def cross_entropy_error_batch(y, t):\n",
    "    delta = 1e-7\n",
    "    if y.dim == 1:\n",
    "        t = t.reshape(1, t.size)\n",
    "        y = y.reshape(1, y.size)\n",
    "        \n",
    "    batch_size = y.shape[0]\n",
    "    return -np.sum(t*np.log(y)) / batch_size"
   ]
  },
  {
   "cell_type": "code",
   "execution_count": 11,
   "metadata": {},
   "outputs": [],
   "source": [
    "def cross_entropy_error_general(y, t):\n",
    "    if y.ndim == 1:\n",
    "        t = t.reshape(1, t.size)\n",
    "        y = y.reshape(1, y.size)\n",
    "        \n",
    "    # 훈련 데이터가 원-핫 벡터라면 정답 레이블의 인덱스로 반환\n",
    "    if t.size == y.size:\n",
    "        t = t.argmax(axis=1)\n",
    "             \n",
    "    batch_size = y.shape[0]\n",
    "    return -np.sum(np.log(y[np.arange(batch_size), t] + 1e-7)) / batch_size"
   ]
  }
 ],
 "metadata": {
  "kernelspec": {
   "display_name": "Python 3",
   "language": "python",
   "name": "python3"
  },
  "language_info": {
   "codemirror_mode": {
    "name": "ipython",
    "version": 3
   },
   "file_extension": ".py",
   "mimetype": "text/x-python",
   "name": "python",
   "nbconvert_exporter": "python",
   "pygments_lexer": "ipython3",
   "version": "3.6.4"
  }
 },
 "nbformat": 4,
 "nbformat_minor": 2
}
