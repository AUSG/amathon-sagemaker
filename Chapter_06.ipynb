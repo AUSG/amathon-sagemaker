{
 "cells": [
  {
   "cell_type": "markdown",
   "metadata": {},
   "source": [
    "# Chapter 06\n",
    "- Loss function의 값을 통해 가중치를 업데이트하는 법을 배워본다.\n",
    "- Loss function을 미분한 값의 의미를 알아본다.\n",
    "- 배운 내용들을 토대로 구현을 통해 실제 학습을 진행하여 본다.\n",
    "\n",
    "## 1. 미분\n",
    "<img src=\"./images/differentiate.jpg\" alt=\"Neural\" style=\"height: 300px;\"/>\n",
    "- 미분 => 함수의 움직임을 파악하는데 효과적인 방법\n",
    "- 수치미분, 편미분의 내용은 생략\n",
    "- 미분을 통해 나온 기울기 값으로 가중치 업데이트를 진행한다.\n"
   ]
  },
  {
   "cell_type": "code",
   "execution_count": 1,
   "metadata": {},
   "outputs": [],
   "source": [
    "import numpy as np\n",
    "\n",
    "def numerical_gradient(f, x):\n",
    "    h = 1e-4 # 0.0001\n",
    "    grad = np.zeros_like(x)\n",
    "    \n",
    "    it = np.nditer(x, flags=['multi_index'], op_flags=['readwrite'])\n",
    "    while not it.finished:\n",
    "        idx = it.multi_index\n",
    "        \n",
    "        tmp_val = x[idx]\n",
    "        \n",
    "        x[idx] = float(tmp_val) + h\n",
    "        fxh1 = f(x) # f(x+h)\n",
    "        \n",
    "        x[idx] = float(tmp_val) - h \n",
    "        fxh2 = f(x) # f(x-h)\n",
    "        \n",
    "        grad[idx] = (fxh1 - fxh2) / (2*h)\n",
    "        \n",
    "        x[idx] = tmp_val # 값 복원\n",
    "        it.iternext()   \n",
    "        \n",
    "    return grad"
   ]
  },
  {
   "cell_type": "markdown",
   "metadata": {},
   "source": [
    "## 2. 경사하강법\n",
    "- Loss function의 값에 영향을 주는 값 : 가중치 W\n",
    "- Loss function의 값 -> 오차의 크기\n",
    "- Loss function의 값을 최소화 시키자.\n",
    "- Loss function의 미분값이 0이되는 최솟값을 찾아보자.\n",
    "<img src=\"./images/gradient_descent.png\" alt=\"Neural\" style=\"height: 250px;\"/>\n",
    "- 경사법의 수식\n",
    "<img src=\"./images/learning_rate.png\" alt=\"Neural\" style=\"height: 150px;\"/>"
   ]
  },
  {
   "cell_type": "markdown",
   "metadata": {},
   "source": [
    "### 학습률 ( Learning rate)\n",
    "- 한번의 반복당 얼마만큼 반영을 시킬 것인가의 비율\n",
    "- 너무 작은 경우 학습 속도가 너무 느리다.\n",
    "- 너무 큰 경우 가중치가 그래프 상에서 튀어다니거나 발산한다.\n",
    "- 적절한 학습률을 찾아내는 것도 중요하다.\n",
    "- hyperparameter : 사람이 직접 설정해주는 매개변수. Hyperparameter의 최적화 알고리즘도 존재한다.\n"
   ]
  },
  {
   "cell_type": "code",
   "execution_count": 2,
   "metadata": {},
   "outputs": [],
   "source": [
    "def gradient_descent(f, init_w, lr=0.01, step_num = 100):\n",
    "    w = init_w\n",
    "    \n",
    "    for i in range(step_num):\n",
    "        grad = numerical_gradient(f,w)\n",
    "        w -= lr * grad\n",
    "        \n",
    "    return w"
   ]
  },
  {
   "cell_type": "markdown",
   "metadata": {},
   "source": [
    "### 학습에 따른 가중치 변화실험"
   ]
  },
  {
   "cell_type": "code",
   "execution_count": 3,
   "metadata": {},
   "outputs": [],
   "source": [
    "from functions import * # functions 이전에 구현했던 함수들을 모아논 파일"
   ]
  },
  {
   "cell_type": "code",
   "execution_count": 4,
   "metadata": {},
   "outputs": [
    {
     "name": "stdout",
     "output_type": "stream",
     "text": [
      "[[-1.47201734  1.52716945  1.86343647]\n",
      " [ 0.25469807 -0.35800857 -1.59637434]]\n",
      "--------------\n",
      "[[ 0.10200601  0.35535162 -0.45735763]\n",
      " [ 0.15300901  0.53302744 -0.68603645]]\n",
      "--------------\n",
      "[[-1.56862307  1.24803553  2.23917611]\n",
      " [ 0.10978948 -0.77670945 -1.03276487]]\n"
     ]
    }
   ],
   "source": [
    "class simpleNet:\n",
    "    def __init__(self):\n",
    "        self.W = np.random.randn(2,3) # 2x3 행렬을 정규분포로 초기화\n",
    "\n",
    "    def predict(self, x):\n",
    "        return np.dot(x, self.W)\n",
    "\n",
    "    def loss(self, x, t):\n",
    "        z = self.predict(x)\n",
    "        y = softmax(z) # Activation function at output layer\n",
    "        loss = cross_entropy_error_general(y, t) # Loss function\n",
    "\n",
    "        return loss\n",
    "\n",
    "x = np.array([0.6, 0.9])\n",
    "t = np.array([0, 0, 1])\n",
    "\n",
    "net = simpleNet()\n",
    "print(net.W) # 학습 전 가중치 매개변수 확인\n",
    "print(\"--------------\")\n",
    "\n",
    "f = lambda w: net.loss(x, t)\n",
    "dW = numerical_gradient(f, net.W) # 학습 전 Loss function의 기울기 값 확인\n",
    "print(dW)\n",
    "print(\"--------------\")\n",
    "\n",
    "newW = gradient_descent(f,net.W) # 학습 후 업데이트된 가중치 값 확인\n",
    "print(newW)"
   ]
  },
  {
   "cell_type": "markdown",
   "metadata": {},
   "source": [
    "***학습을 통해 찾아낸 가중치가 완벽한 최솟값이라는 보장이 없다. 왜냐하면 극솟값이거나 안장점일 수도 있기 때문***"
   ]
  },
  {
   "cell_type": "markdown",
   "metadata": {},
   "source": [
    "## 3. 미니배치 2층 신경망 클래스 구현하기\n",
    "1. 미니배치\n",
    "2. 기울기 산출\n",
    "3. 매개변수 갱신\n",
    "4. 1~3 단계 반복"
   ]
  },
  {
   "cell_type": "markdown",
   "metadata": {},
   "source": [
    "### 1) 모델 만들기"
   ]
  },
  {
   "cell_type": "code",
   "execution_count": 5,
   "metadata": {},
   "outputs": [],
   "source": [
    "class TwoLayerNet:\n",
    "\n",
    "    def __init__(self, input_size, hidden_size, output_size, weight_init_std=0.01):\n",
    "        # 가중치 초기화\n",
    "        self.params = {}\n",
    "        self.params['W1'] = weight_init_std * np.random.randn(input_size, hidden_size) # 1층의 가중치\n",
    "        self.params['b1'] = np.zeros(hidden_size) # 1층의 편향\n",
    "        self.params['W2'] = weight_init_std * np.random.randn(hidden_size, output_size) # 2층의 가중치\n",
    "        self.params['b2'] = np.zeros(output_size) # 2층의 편향\n",
    "\n",
    "    def predict(self, x):\n",
    "        W1, W2 = self.params['W1'], self.params['W2']\n",
    "        b1, b2 = self.params['b1'], self.params['b2']\n",
    "    \n",
    "        a1 = np.dot(x, W1) + b1\n",
    "        z1 = sigmoid(a1)\n",
    "        a2 = np.dot(z1, W2) + b2\n",
    "        y = softmax(a2)\n",
    "        \n",
    "        return y\n",
    "        \n",
    "    # x : 입력 데이터, t : 정답 레이블\n",
    "    def loss(self, x, t):\n",
    "        y = self.predict(x)\n",
    "        \n",
    "        return cross_entropy_error_general(y, t)\n",
    "    \n",
    "    def accuracy(self, x, t):\n",
    "        y = self.predict(x)\n",
    "        y = np.argmax(y, axis=1)\n",
    "        t = np.argmax(t, axis=1)\n",
    "        \n",
    "        accuracy = np.sum(y == t) / float(x.shape[0])\n",
    "        return accuracy\n",
    "        \n",
    "    # x : 입력 데이터, t : 정답 레이블\n",
    "    def numerical_gradient_complex(self, x, t):\n",
    "        loss_W = lambda W: self.loss(x, t)\n",
    "        \n",
    "        grads = {}\n",
    "        grads['W1'] = numerical_gradient(loss_W, self.params['W1']) # 위에서 구현한 수치미분\n",
    "        grads['b1'] = numerical_gradient(loss_W, self.params['b1'])\n",
    "        grads['W2'] = numerical_gradient(loss_W, self.params['W2'])\n",
    "        grads['b2'] = numerical_gradient(loss_W, self.params['b2'])\n",
    "        \n",
    "        return grads\n",
    "        \n",
    "    def gradient(self, x, t): # 오차역전파 방식. 우리는 배우지 않았습니다.\n",
    "        W1, W2 = self.params['W1'], self.params['W2']\n",
    "        b1, b2 = self.params['b1'], self.params['b2']\n",
    "        grads = {}\n",
    "        \n",
    "        batch_num = x.shape[0]\n",
    "        \n",
    "        # forward\n",
    "        a1 = np.dot(x, W1) + b1\n",
    "        z1 = sigmoid(a1)\n",
    "        a2 = np.dot(z1, W2) + b2\n",
    "        y = softmax(a2)\n",
    "        \n",
    "        # backward\n",
    "        dy = (y - t) / batch_num\n",
    "        grads['W2'] = np.dot(z1.T, dy)\n",
    "        grads['b2'] = np.sum(dy, axis=0)\n",
    "        \n",
    "        da1 = np.dot(dy, W2.T)\n",
    "        dz1 = sigmoid_grad(a1) * da1\n",
    "        grads['W1'] = np.dot(x.T, dz1)\n",
    "        grads['b1'] = np.sum(dz1, axis=0)\n",
    "\n",
    "        return grads"
   ]
  },
  {
   "cell_type": "markdown",
   "metadata": {},
   "source": [
    "### 2) 학습 구현 및 테스트 해보기"
   ]
  },
  {
   "cell_type": "code",
   "execution_count": 7,
   "metadata": {
    "scrolled": true
   },
   "outputs": [
    {
     "name": "stdout",
     "output_type": "stream",
     "text": [
      "train acc, test acc | 0.09313333333333333, 0.0957\n",
      "train acc, test acc | 0.79235, 0.7951\n",
      "train acc, test acc | 0.8794666666666666, 0.8816\n",
      "train acc, test acc | 0.89955, 0.9018\n",
      "train acc, test acc | 0.9087333333333333, 0.9127\n",
      "train acc, test acc | 0.91495, 0.917\n",
      "train acc, test acc | 0.9195, 0.9215\n",
      "train acc, test acc | 0.9237166666666666, 0.9259\n",
      "train acc, test acc | 0.92725, 0.9282\n",
      "train acc, test acc | 0.9312666666666667, 0.9321\n",
      "train acc, test acc | 0.93345, 0.9336\n",
      "train acc, test acc | 0.936, 0.9372\n",
      "train acc, test acc | 0.9391833333333334, 0.94\n",
      "train acc, test acc | 0.9417166666666666, 0.9411\n",
      "train acc, test acc | 0.9436666666666667, 0.9421\n",
      "train acc, test acc | 0.9454833333333333, 0.9441\n",
      "train acc, test acc | 0.9472166666666667, 0.9472\n",
      "train acc, test acc | 0.9488166666666666, 0.9481\n",
      "train acc, test acc | 0.9501, 0.9492\n",
      "train acc, test acc | 0.9515, 0.9494\n",
      "train acc, test acc | 0.9532833333333334, 0.9504\n",
      "train acc, test acc | 0.9538, 0.951\n",
      "train acc, test acc | 0.9557833333333333, 0.9522\n",
      "train acc, test acc | 0.9566666666666667, 0.9536\n",
      "train acc, test acc | 0.95755, 0.9538\n"
     ]
    },
    {
     "data": {
      "image/png": "[encoded data removed]",
      "text/plain": [
       "<matplotlib.figure.Figure at 0x11a0d0940>"
      ]
     },
     "metadata": {},
     "output_type": "display_data"
    }
   ],
   "source": [
    "import import_ipynb\n",
    "import matplotlib.pylab as plt\n",
    "from mnist import load_mnist\n",
    "# 데이터 읽기\n",
    "(x_train, t_train), (x_test, t_test) = load_mnist(normalize=True, one_hot_label=True)\n",
    "\n",
    "network = TwoLayerNet(input_size=784, hidden_size=50, output_size=10)\n",
    "\n",
    "# 하이퍼파라미터\n",
    "iters_num = 15000  # 반복 횟수를 적절히 설정한다.\n",
    "train_size = x_train.shape[0]\n",
    "batch_size = 100   # 미니배치 크기\n",
    "learning_rate = 0.1\n",
    "\n",
    "train_loss_list = []\n",
    "train_acc_list = []\n",
    "test_acc_list = []\n",
    "\n",
    "# 1에폭당 반복 수\n",
    "iter_per_epoch = max(train_size / batch_size, 1)\n",
    "\n",
    "for i in range(iters_num):\n",
    "    # 미니배치 획득\n",
    "    batch_mask = np.random.choice(train_size, batch_size)\n",
    "    x_batch = x_train[batch_mask]\n",
    "    t_batch = t_train[batch_mask]\n",
    "    \n",
    "    # 기울기 계산\n",
    "#     grad = network.numerical_gradient_complex(x_batch, t_batch) # 엄청 오래걸려요.\n",
    "    grad = network.gradient(x_batch, t_batch) # 우리는 대신 이것으로 맛보기 합니다.\n",
    "    \n",
    "    # 매개변수 갱신\n",
    "    for key in ('W1', 'b1', 'W2', 'b2'):\n",
    "        network.params[key] -= learning_rate * grad[key]\n",
    "    \n",
    "    # 학습 경과 기록\n",
    "    loss = network.loss(x_batch, t_batch)\n",
    "    train_loss_list.append(loss)\n",
    "    \n",
    "    # 1에폭당 정확도 계산\n",
    "    if i % iter_per_epoch == 0:\n",
    "        train_acc = network.accuracy(x_train, t_train)\n",
    "        test_acc = network.accuracy(x_test, t_test)\n",
    "        train_acc_list.append(train_acc)\n",
    "        test_acc_list.append(test_acc)\n",
    "        print(\"train acc, test acc | \" + str(train_acc) + \", \" + str(test_acc))\n",
    "\n",
    "# 그래프 그리기\n",
    "markers = {'train': 'o', 'test': 's'}\n",
    "x = np.arange(len(train_acc_list))\n",
    "plt.plot(x, train_acc_list, label='train acc')\n",
    "plt.plot(x, test_acc_list, label='test acc', linestyle='--')\n",
    "plt.xlabel(\"epochs\")\n",
    "plt.ylabel(\"accuracy\")\n",
    "plt.ylim(0, 1.0)\n",
    "plt.legend(loc='lower right')\n",
    "plt.show()"
   ]
  },
  {
   "cell_type": "markdown",
   "metadata": {},
   "source": [
    "***여러분은 기본적인 머신러닝 학습법을 익혀보고 인공신경망을 구축해 보았습니다.***"
   ]
  },
  {
   "cell_type": "code",
   "execution_count": null,
   "metadata": {},
   "outputs": [],
   "source": []
  }
 ],
 "metadata": {
  "kernelspec": {
   "display_name": "Python 3",
   "language": "python",
   "name": "python3"
  },
  "language_info": {
   "codemirror_mode": {
    "name": "ipython",
    "version": 3
   },
   "file_extension": ".py",
   "mimetype": "text/x-python",
   "name": "python",
   "nbconvert_exporter": "python",
   "pygments_lexer": "ipython3",
   "version": "3.6.4"
  }
 },
 "nbformat": 4,
 "nbformat_minor": 2
}
