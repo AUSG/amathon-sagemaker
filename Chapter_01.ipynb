{
 "cells": [
  {
   "cell_type": "markdown",
   "metadata": {},
   "source": [
    "# Chapter 01\n",
    "\n",
    "### 1. 개요\n",
    "- 본 세션은 기본적인 머신러닝 기법들을 이해하고, 이들을 Amazon SageMaker를 활용하여 실습해보는 세션입니다.<br>마지막에는 Amazon SageMaker로 모델을 배포하고 사용해 보도록 하겠습니다.\n",
    "\n",
    "### 2. Python\n",
    "- 초보자도 배우기 쉬운 언어\n",
    "- 데이터 과학 분야에서 널리 사용되는 언어. 성능이 좋고 수치계산, 통계처리에 뛰어난 라이브러리가 많다. Ex) Numpy, SciPy\n",
    "\n",
    "### 3. Numpy\n",
    "- 수치계산용 라이브러리\n",
    "- 수학 알고리즘, 행렬 계산에 알맞은 함수가 많다.\n",
    "- Numpy 연산은 Numpy array라는 특수한 배열을 사용한다."
   ]
  },
  {
   "cell_type": "code",
   "execution_count": 1,
   "metadata": {},
   "outputs": [],
   "source": [
    "# Numpy 라이브러리 불러오기\n",
    "import numpy as np"
   ]
  },
  {
   "cell_type": "code",
   "execution_count": 2,
   "metadata": {},
   "outputs": [
    {
     "name": "stdout",
     "output_type": "stream",
     "text": [
      "[1. 2. 3.]\n"
     ]
    }
   ],
   "source": [
    "# 일반 배열을 Numpy 배열로 변환\n",
    "x = np.array([1.0, 2.0, 3.0])\n",
    "type(x)\n",
    "print(x)"
   ]
  },
  {
   "cell_type": "code",
   "execution_count": 3,
   "metadata": {},
   "outputs": [
    {
     "name": "stdout",
     "output_type": "stream",
     "text": [
      "[3. 6. 9.]\n",
      "[-1. -2. -3.]\n",
      "[ 2.  8. 18.]\n",
      "[0.5 0.5 0.5]\n"
     ]
    }
   ],
   "source": [
    "# Numpy 산술연산\n",
    "x = np.array([1.0, 2.0, 3.0])\n",
    "y = np.array([2.0, 4.0, 6.0])\n",
    "print(x+y)\n",
    "print(x-y)\n",
    "print(x*y)\n",
    "print(x/y)"
   ]
  },
  {
   "cell_type": "code",
   "execution_count": 4,
   "metadata": {},
   "outputs": [
    {
     "name": "stdout",
     "output_type": "stream",
     "text": [
      "[0.5 1.  1.5]\n"
     ]
    }
   ],
   "source": [
    "# 브로드캐스트, 배열이 확장된다.\n",
    "print(x/2.0)"
   ]
  },
  {
   "cell_type": "code",
   "execution_count": 5,
   "metadata": {},
   "outputs": [
    {
     "name": "stdout",
     "output_type": "stream",
     "text": [
      "------------\n",
      "[[1 2]\n",
      " [3 4]]\n",
      "------------\n",
      "(2, 2)\n",
      "------------\n",
      "int64\n",
      "------------\n",
      "[[ 6  8]\n",
      " [10 12]]\n",
      "------------\n",
      "[[10 20]\n",
      " [30 40]]\n",
      "------------\n"
     ]
    }
   ],
   "source": [
    "# N dimension array\n",
    "A = np.array([[1,2], [3,4]])\n",
    "B = np.array([[5,6], [7,8]])\n",
    "print(\"------------\")\n",
    "print(A) # 출력\n",
    "print(\"------------\")\n",
    "print(A.shape) # (행,렬) or (세로길이, 가로길이)\n",
    "print(\"------------\")\n",
    "print(A.dtype) # 행렬에 담긴 원소의 자료형\n",
    "print(\"------------\")\n",
    "print(A+B) # 다차원 배열 연산\n",
    "print(\"------------\")\n",
    "print(A*10) # 브로드 캐스트\n",
    "print(\"------------\")"
   ]
  },
  {
   "cell_type": "code",
   "execution_count": 6,
   "metadata": {},
   "outputs": [
    {
     "name": "stdout",
     "output_type": "stream",
     "text": [
      "[[10 40]\n",
      " [30 80]]\n"
     ]
    }
   ],
   "source": [
    "# 다차원 배열간의 브로드캐스트\n",
    "A = np.array([[1,2], [3,4]])\n",
    "B = np.array([10, 20])\n",
    "print(A*B)"
   ]
  },
  {
   "cell_type": "markdown",
   "metadata": {},
   "source": [
    "##### 브로드 캐스트 예시\n",
    "```\n",
    "1 2                1 2     10 20     10 40\n",
    "4 5   *  10 20 =>  4 5  *  10 20  =  40 100\n",
    "```"
   ]
  },
  {
   "cell_type": "code",
   "execution_count": 7,
   "metadata": {},
   "outputs": [
    {
     "name": "stdout",
     "output_type": "stream",
     "text": [
      "[1 2]\n",
      "[3 4]\n"
     ]
    }
   ],
   "source": [
    "# 각 원소 접근\n",
    "for row in A:\n",
    "    print(row)"
   ]
  },
  {
   "cell_type": "code",
   "execution_count": 8,
   "metadata": {},
   "outputs": [
    {
     "name": "stdout",
     "output_type": "stream",
     "text": [
      "[1 2 3 4 5 6]\n"
     ]
    }
   ],
   "source": [
    "# 평탄화\n",
    "X = np.array([[1,2],[3,4],[5,6]])\n",
    "X = X.flatten() # 배열 평탄화\n",
    "print(X)"
   ]
  },
  {
   "cell_type": "code",
   "execution_count": 9,
   "metadata": {},
   "outputs": [
    {
     "name": "stdout",
     "output_type": "stream",
     "text": [
      "[False False False  True  True  True]\n",
      "[4 5 6]\n"
     ]
    }
   ],
   "source": [
    "# 특정 조건의 원소 구하기\n",
    "print(X > 3)\n",
    "print(X[X>3])"
   ]
  },
  {
   "cell_type": "markdown",
   "metadata": {},
   "source": [
    "### 4. Matplotlib\n",
    "- 데이터 시각화 라이브러리"
   ]
  },
  {
   "cell_type": "code",
   "execution_count": 10,
   "metadata": {},
   "outputs": [],
   "source": [
    "# Matplotlib 라이브러리 불러오기\n",
    "import matplotlib.pyplot as plt"
   ]
  },
  {
   "cell_type": "code",
   "execution_count": 11,
   "metadata": {},
   "outputs": [
    {
     "data": {
      "image/png": "[encoded data removed]",
      "text/plain": [
       "<matplotlib.figure.Figure at 0x10bf0b198>"
      ]
     },
     "metadata": {},
     "output_type": "display_data"
    }
   ],
   "source": [
    "x = np.arange(0, 6, 0.1) # 0에서 6까지 0.1 간격으로 생성\n",
    "y = np.sin(x) # sin 삼각함수\n",
    "\n",
    "plt.plot(x, y) # plot(x축, y축), 축의 값 설정\n",
    "plt.show()"
   ]
  },
  {
   "cell_type": "code",
   "execution_count": 12,
   "metadata": {},
   "outputs": [
    {
     "data": {
      "image/png": "[encoded data removed]",
      "text/plain": [
       "<matplotlib.figure.Figure at 0x10f0e0a58>"
      ]
     },
     "metadata": {},
     "output_type": "display_data"
    }
   ],
   "source": [
    "x = np.arange(0, 6, 0.1)\n",
    "y1 = np.sin(x)\n",
    "y2 = np.cos(x)\n",
    "\n",
    "plt.plot(x, y1, label=\"sin\") # label => 함수의 이름\n",
    "plt.plot(x, y2, linestyle=\"--\", label=\"cos\") # cos는 점선 style\n",
    "plt.xlabel(\"x\") # x 축의 이름\n",
    "plt.ylabel(\"y\") # y 축의 이름\n",
    "plt.title(\"sin & cos\") # 그래프의 제목\n",
    "plt.legend() # legend 표시\n",
    "plt.show()"
   ]
  },
  {
   "cell_type": "code",
   "execution_count": 17,
   "metadata": {},
   "outputs": [
    {
     "data": {
      "image/png": "[encoded data removed]",
      "text/plain": [
       "<matplotlib.figure.Figure at 0x10be6dda0>"
      ]
     },
     "metadata": {},
     "output_type": "display_data"
    }
   ],
   "source": [
    "# 이미지를 읽는 함수 import\n",
    "from matplotlib.image import imread\n",
    "\n",
    "img = imread('./images/ausg.png') # image 읽어오기\n",
    "plt.imshow(img)\n",
    "plt.show()"
   ]
  },
  {
   "cell_type": "code",
   "execution_count": null,
   "metadata": {},
   "outputs": [],
   "source": []
  }
 ],
 "metadata": {
  "kernelspec": {
   "display_name": "Python 3",
   "language": "python",
   "name": "python3"
  },
  "language_info": {
   "codemirror_mode": {
    "name": "ipython",
    "version": 3
   },
   "file_extension": ".py",
   "mimetype": "text/x-python",
   "name": "python",
   "nbconvert_exporter": "python",
   "pygments_lexer": "ipython3",
   "version": "3.6.4"
  }
 },
 "nbformat": 4,
 "nbformat_minor": 2
}
