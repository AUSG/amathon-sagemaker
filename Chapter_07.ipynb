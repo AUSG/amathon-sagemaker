{
 "cells": [
  {
   "cell_type": "markdown",
   "metadata": {},
   "source": [
    "# Chapter 07\n",
    "- SageMaker에 내장된 k-means 알고리즘을 사용하여 모델 구축, 학습 배포를 진행해 본다.\n",
    "- k-means 알고리즘 : 클러스터링 알고리즘\n",
    "<img src=\"./images/k-means.png\" alt=\"Neural\" style=\"height: 200px;\"/>\n",
    "### 1) 세팅"
   ]
  },
  {
   "cell_type": "code",
   "execution_count": 4,
   "metadata": {},
   "outputs": [],
   "source": [
    "from sagemaker import get_execution_role # 생성했던 IAM 역할 호출\n",
    "\n",
    "role = get_execution_role()\n",
    "bucket='amathon-seon-s3' # s3 이름 입력"
   ]
  },
  {
   "cell_type": "code",
   "execution_count": 5,
   "metadata": {},
   "outputs": [
    {
     "name": "stdout",
     "output_type": "stream",
     "text": [
      "CPU times: user 896 ms, sys: 308 ms, total: 1.2 s\n",
      "Wall time: 6.8 s\n"
     ]
    }
   ],
   "source": [
    "%%time\n",
    "import pickle, gzip, numpy, urllib.request, json\n",
    "\n",
    "# MNIST Dataset 다운로드\n",
    "urllib.request.urlretrieve(\"http://deeplearning.net/data/mnist/mnist.pkl.gz\", \"mnist.pkl.gz\")\n",
    "with gzip.open('mnist.pkl.gz', 'rb') as f:\n",
    "    train_set, valid_set, test_set = pickle.load(f, encoding='latin1') # 바로 불러오기까지 진행"
   ]
  },
  {
   "cell_type": "markdown",
   "metadata": {},
   "source": [
    "- Valid set : 모델을 개선하는데 사용, 성능평가\n",
    "- Test set : 모델을 테스트 하는데 사용, 최종평가\n",
    "<img src=\"./images/validation.png\" alt=\"Neural\" style=\"height: 150px;\"/>"
   ]
  },
  {
   "cell_type": "code",
   "execution_count": 6,
   "metadata": {},
   "outputs": [
    {
     "data": {
      "image/png": "[encoded data removed]",
      "text/plain": [
       "<Figure size 144x720 with 1 Axes>"
      ]
     },
     "metadata": {},
     "output_type": "display_data"
    }
   ],
   "source": [
    "# 이미지를 하나 가져와서 데이터 확인\n",
    "%matplotlib inline\n",
    "import matplotlib.pyplot as plt\n",
    "plt.rcParams[\"figure.figsize\"] = (2,10)\n",
    "\n",
    "\n",
    "def show_digit(img, caption='', subplot=None):\n",
    "    if subplot==None:\n",
    "        _,(subplot)=plt.subplots(1,1)\n",
    "    imgr=img.reshape((28,28))\n",
    "    subplot.axis('off')\n",
    "    subplot.imshow(imgr, cmap='gray')\n",
    "    plt.title(caption)\n",
    "\n",
    "show_digit(train_set[0][30], 'This is a {}'.format(train_set[1][30]))"
   ]
  },
  {
   "cell_type": "markdown",
   "metadata": {},
   "source": [
    "### 2) 모델 훈련"
   ]
  },
  {
   "cell_type": "code",
   "execution_count": 9,
   "metadata": {},
   "outputs": [
    {
     "name": "stdout",
     "output_type": "stream",
     "text": [
      "training data will be uploaded to: s3://amathon-seon-s3/kmeans/data\n",
      "training artifacts will be uploaded to: s3://amathon-seon-s3/kmeans_model/output\n"
     ]
    }
   ],
   "source": [
    "from sagemaker import KMeans # SageMaker에 내장되어있는 kmeans 알고리즘 불러오기.\n",
    "\n",
    "data_location = 's3://{}/kmeans/data'.format(bucket) # 위에서 저장한 training 데이터 위치\n",
    "output_location = 's3://{}/kmeans_model/output'.format(bucket) # 모델이 저장될 위치\n",
    "\n",
    "print('training data will be uploaded to: {}'.format(data_location))\n",
    "print('training artifacts will be uploaded to: {}'.format(output_location))\n",
    "\n",
    "kmeans = KMeans(role=role, # IAM 역할\n",
    "                train_instance_count=2, # 모델 훈련에 사용할 인스턴스 유형과 수\n",
    "                train_instance_type='ml.c4.8xlarge',\n",
    "                output_path=output_location, # 훈련 모델 저장 위치\n",
    "                k=10, # 생성할 클러스터의 숫자\n",
    "                data_location=data_location) # Training 데이터의 위치"
   ]
  },
  {
   "cell_type": "code",
   "execution_count": 12,
   "metadata": {},
   "outputs": [
    {
     "name": "stderr",
     "output_type": "stream",
     "text": [
      "INFO:sagemaker:Creating training-job with name: kmeans-2018-07-18-21-16-51-938\n"
     ]
    },
    {
     "name": "stdout",
     "output_type": "stream",
     "text": [
      "....................\n",
      "\u001b[31mDocker entrypoint called with argument(s): train\u001b[0m\n",
      "\u001b[32mDocker entrypoint called with argument(s): train\u001b[0m\n",
      "\u001b[32m[07/18/2018 21:20:03 INFO 139731077621568] Reading default configuration from /opt/amazon/lib/python2.7/site-packages/algorithm/default-input.json: {u'_tuning_objective_metric': u'', u'_num_gpus': u'auto', u'local_lloyd_num_trials': u'auto', u'_log_level': u'info', u'_kvstore': u'auto', u'local_lloyd_init_method': u'kmeans++', u'force_dense': u'true', u'epochs': u'1', u'init_method': u'random', u'local_lloyd_tol': u'0.0001', u'local_lloyd_max_iter': u'300', u'_disable_wait_to_read': u'false', u'extra_center_factor': u'auto', u'eval_metrics': u'[\"msd\"]', u'_num_kv_servers': u'1', u'mini_batch_size': u'5000', u'half_life_time_size': u'0', u'_num_slices': u'1'}\u001b[0m\n",
      "\u001b[32m[07/18/2018 21:20:03 INFO 139731077621568] Reading provided configuration from /opt/ml/input/config/hyperparameters.json: {u'feature_dim': u'784', u'k': u'10', u'force_dense': u'True'}\u001b[0m\n",
      "\u001b[32m[07/18/2018 21:20:03 INFO 139731077621568] Final configuration: {u'k': u'10', u'_tuning_objective_metric': u'', u'_num_gpus': u'auto', u'local_lloyd_num_trials': u'auto', u'_log_level': u'info', u'_kvstore': u'auto', u'local_lloyd_init_method': u'kmeans++', u'force_dense': u'True', u'epochs': u'1', u'init_method': u'random', u'feature_dim': u'784', u'local_lloyd_tol': u'0.0001', u'local_lloyd_max_iter': u'300', u'_disable_wait_to_read': u'false', u'extra_center_factor': u'auto', u'eval_metrics': u'[\"msd\"]', u'_num_kv_servers': u'1', u'mini_batch_size': u'5000', u'half_life_time_size': u'0', u'_num_slices': u'1'}\u001b[0m\n",
      "\u001b[32m[07/18/2018 21:20:03 WARNING 139731077621568] Loggers have already been setup.\u001b[0m\n",
      "\u001b[31m[07/18/2018 21:20:04 INFO 140654937917248] Reading default configuration from /opt/amazon/lib/python2.7/site-packages/algorithm/default-input.json: {u'_tuning_objective_metric': u'', u'_num_gpus': u'auto', u'local_lloyd_num_trials': u'auto', u'_log_level': u'info', u'_kvstore': u'auto', u'local_lloyd_init_method': u'kmeans++', u'force_dense': u'true', u'epochs': u'1', u'init_method': u'random', u'local_lloyd_tol': u'0.0001', u'local_lloyd_max_iter': u'300', u'_disable_wait_to_read': u'false', u'extra_center_factor': u'auto', u'eval_metrics': u'[\"msd\"]', u'_num_kv_servers': u'1', u'mini_batch_size': u'5000', u'half_life_time_size': u'0', u'_num_slices': u'1'}\u001b[0m\n",
      "\u001b[31m[07/18/2018 21:20:04 INFO 140654937917248] Reading provided configuration from /opt/ml/input/config/hyperparameters.json: {u'feature_dim': u'784', u'k': u'10', u'force_dense': u'True'}\u001b[0m\n",
      "\u001b[31m[07/18/2018 21:20:04 INFO 140654937917248] Final configuration: {u'k': u'10', u'_tuning_objective_metric': u'', u'_num_gpus': u'auto', u'local_lloyd_num_trials': u'auto', u'_log_level': u'info', u'_kvstore': u'auto', u'local_lloyd_init_method': u'kmeans++', u'force_dense': u'True', u'epochs': u'1', u'init_method': u'random', u'feature_dim': u'784', u'local_lloyd_tol': u'0.0001', u'local_lloyd_max_iter': u'300', u'_disable_wait_to_read': u'false', u'extra_center_factor': u'auto', u'eval_metrics': u'[\"msd\"]', u'_num_kv_servers': u'1', u'mini_batch_size': u'5000', u'half_life_time_size': u'0', u'_num_slices': u'1'}\u001b[0m\n",
      "\u001b[31m[07/18/2018 21:20:04 WARNING 140654937917248] Loggers have already been setup.\u001b[0m\n",
      "\u001b[31m[07/18/2018 21:20:05 INFO 140654937917248] Launching parameter server for role scheduler\u001b[0m\n",
      "\u001b[31m[07/18/2018 21:20:05 INFO 140654937917248] {'PROTOCOL_BUFFERS_PYTHON_IMPLEMENTATION_VERSION': '2', 'PATH': '/opt/amazon/bin:/usr/local/nvidia/bin:/usr/local/sbin:/usr/local/bin:/usr/sbin:/usr/bin:/sbin:/bin:/opt/amazon/bin:/opt/amazon/bin', 'SAGEMAKER_HTTP_PORT': '8080', 'HOME': '/root', 'PYTHONUNBUFFERED': 'TRUE', 'CANONICAL_ENVROOT': '/opt/amazon', 'LD_LIBRARY_PATH': '/usr/local/nvidia/lib64:/opt/amazon/lib', 'MXNET_KVSTORE_BIGARRAY_BOUND': '400000000', 'LANG': 'en_US.utf8', 'DMLC_INTERFACE': 'ethwe', 'SHLVL': '1', 'AWS_REGION': 'ap-northeast-2', 'NVIDIA_VISIBLE_DEVICES': 'all', 'TRAINING_JOB_NAME': 'kmeans-2018-07-18-21-16-51-938', 'PROTOCOL_BUFFERS_PYTHON_IMPLEMENTATION': 'cpp', 'ENVROOT': '/opt/amazon', 'SAGEMAKER_DATA_PATH': '/opt/ml', 'NVIDIA_DRIVER_CAPABILITIES': 'compute,utility', 'NVIDIA_REQUIRE_CUDA': 'cuda>=9.0', 'OMP_NUM_THREADS': '18', 'HOSTNAME': 'aws', 'AWS_CONTAINER_CREDENTIALS_RELATIVE_URI': '/v2/credentials/d5799d35-dcff-4e89-9330-9a8bd4ae9f71', 'PWD': '/'}\u001b[0m\n",
      "\u001b[31m[07/18/2018 21:20:05 INFO 140654937917248] envs={'PROTOCOL_BUFFERS_PYTHON_IMPLEMENTATION_VERSION': '2', 'DMLC_NUM_WORKER': '2', 'DMLC_PS_ROOT_PORT': '9000', 'PATH': '/opt/amazon/bin:/usr/local/nvidia/bin:/usr/local/sbin:/usr/local/bin:/usr/sbin:/usr/bin:/sbin:/bin:/opt/amazon/bin:/opt/amazon/bin', 'SAGEMAKER_HTTP_PORT': '8080', 'HOME': '/root', 'PYTHONUNBUFFERED': 'TRUE', 'CANONICAL_ENVROOT': '/opt/amazon', 'LD_LIBRARY_PATH': '/usr/local/nvidia/lib64:/opt/amazon/lib', 'MXNET_KVSTORE_BIGARRAY_BOUND': '400000000', 'LANG': 'en_US.utf8', 'DMLC_INTERFACE': 'ethwe', 'SHLVL': '1', 'DMLC_PS_ROOT_URI': '10.40.0.3', 'AWS_REGION': 'ap-northeast-2', 'NVIDIA_VISIBLE_DEVICES': 'all', 'TRAINING_JOB_NAME': 'kmeans-2018-07-18-21-16-51-938', 'PROTOCOL_BUFFERS_PYTHON_IMPLEMENTATION': 'cpp', 'ENVROOT': '/opt/amazon', 'SAGEMAKER_DATA_PATH': '/opt/ml', 'NVIDIA_DRIVER_CAPABILITIES': 'compute,utility', 'NVIDIA_REQUIRE_CUDA': 'cuda>=9.0', 'OMP_NUM_THREADS': '18', 'HOSTNAME': 'aws', 'AWS_CONTAINER_CREDENTIALS_RELATIVE_URI': '/v2/credentials/d5799d35-dcff-4e89-9330-9a8bd4ae9f71', 'DMLC_ROLE': 'scheduler', 'PWD': '/', 'DMLC_NUM_SERVER': '1'}\u001b[0m\n",
      "\u001b[31m[07/18/2018 21:20:05 INFO 140654937917248] Launching parameter server for role server\u001b[0m\n",
      "\u001b[31m[07/18/2018 21:20:05 INFO 140654937917248] {'PROTOCOL_BUFFERS_PYTHON_IMPLEMENTATION_VERSION': '2', 'PATH': '/opt/amazon/bin:/usr/local/nvidia/bin:/usr/local/sbin:/usr/local/bin:/usr/sbin:/usr/bin:/sbin:/bin:/opt/amazon/bin:/opt/amazon/bin', 'SAGEMAKER_HTTP_PORT': '8080', 'HOME': '/root', 'PYTHONUNBUFFERED': 'TRUE', 'CANONICAL_ENVROOT': '/opt/amazon', 'LD_LIBRARY_PATH': '/usr/local/nvidia/lib64:/opt/amazon/lib', 'MXNET_KVSTORE_BIGARRAY_BOUND': '400000000', 'LANG': 'en_US.utf8', 'DMLC_INTERFACE': 'ethwe', 'SHLVL': '1', 'AWS_REGION': 'ap-northeast-2', 'NVIDIA_VISIBLE_DEVICES': 'all', 'TRAINING_JOB_NAME': 'kmeans-2018-07-18-21-16-51-938', 'PROTOCOL_BUFFERS_PYTHON_IMPLEMENTATION': 'cpp', 'ENVROOT': '/opt/amazon', 'SAGEMAKER_DATA_PATH': '/opt/ml', 'NVIDIA_DRIVER_CAPABILITIES': 'compute,utility', 'NVIDIA_REQUIRE_CUDA': 'cuda>=9.0', 'OMP_NUM_THREADS': '18', 'HOSTNAME': 'aws', 'AWS_CONTAINER_CREDENTIALS_RELATIVE_URI': '/v2/credentials/d5799d35-dcff-4e89-9330-9a8bd4ae9f71', 'PWD': '/'}\u001b[0m\n",
      "\u001b[31m[07/18/2018 21:20:05 INFO 140654937917248] envs={'PROTOCOL_BUFFERS_PYTHON_IMPLEMENTATION_VERSION': '2', 'DMLC_NUM_WORKER': '2', 'DMLC_PS_ROOT_PORT': '9000', 'PATH': '/opt/amazon/bin:/usr/local/nvidia/bin:/usr/local/sbin:/usr/local/bin:/usr/sbin:/usr/bin:/sbin:/bin:/opt/amazon/bin:/opt/amazon/bin', 'SAGEMAKER_HTTP_PORT': '8080', 'HOME': '/root', 'PYTHONUNBUFFERED': 'TRUE', 'CANONICAL_ENVROOT': '/opt/amazon', 'LD_LIBRARY_PATH': '/usr/local/nvidia/lib64:/opt/amazon/lib', 'MXNET_KVSTORE_BIGARRAY_BOUND': '400000000', 'LANG': 'en_US.utf8', 'DMLC_INTERFACE': 'ethwe', 'SHLVL': '1', 'DMLC_PS_ROOT_URI': '10.40.0.3', 'AWS_REGION': 'ap-northeast-2', 'NVIDIA_VISIBLE_DEVICES': 'all', 'TRAINING_JOB_NAME': 'kmeans-2018-07-18-21-16-51-938', 'PROTOCOL_BUFFERS_PYTHON_IMPLEMENTATION': 'cpp', 'ENVROOT': '/opt/amazon', 'SAGEMAKER_DATA_PATH': '/opt/ml', 'NVIDIA_DRIVER_CAPABILITIES': 'compute,utility', 'NVIDIA_REQUIRE_CUDA': 'cuda>=9.0', 'OMP_NUM_THREADS': '18', 'HOSTNAME': 'aws', 'AWS_CONTAINER_CREDENTIALS_RELATIVE_URI': '/v2/credentials/d5799d35-dcff-4e89-9330-9a8bd4ae9f71', 'DMLC_ROLE': 'server', 'PWD': '/', 'DMLC_NUM_SERVER': '1'}\u001b[0m\n",
      "\u001b[31m[07/18/2018 21:20:05 INFO 140654937917248] Environment: {'PROTOCOL_BUFFERS_PYTHON_IMPLEMENTATION_VERSION': '2', 'DMLC_PS_ROOT_PORT': '9000', 'DMLC_NUM_WORKER': '2', 'SAGEMAKER_HTTP_PORT': '8080', 'HOME': '/root', 'PYTHONUNBUFFERED': 'TRUE', 'CANONICAL_ENVROOT': '/opt/amazon', 'LD_LIBRARY_PATH': '/usr/local/nvidia/lib64:/opt/amazon/lib', 'MXNET_KVSTORE_BIGARRAY_BOUND': '400000000', 'LANG': 'en_US.utf8', 'DMLC_INTERFACE': 'ethwe', 'SHLVL': '1', 'DMLC_PS_ROOT_URI': '10.40.0.3', 'AWS_REGION': 'ap-northeast-2', 'NVIDIA_VISIBLE_DEVICES': 'all', 'TRAINING_JOB_NAME': 'kmeans-2018-07-18-21-16-51-938', 'PATH': '/opt/amazon/bin:/usr/local/nvidia/bin:/usr/local/sbin:/usr/local/bin:/usr/sbin:/usr/bin:/sbin:/bin:/opt/amazon/bin:/opt/amazon/bin', 'PROTOCOL_BUFFERS_PYTHON_IMPLEMENTATION': 'cpp', 'ENVROOT': '/opt/amazon', 'SAGEMAKER_DATA_PATH': '/opt/ml', 'NVIDIA_DRIVER_CAPABILITIES': 'compute,utility', 'NVIDIA_REQUIRE_CUDA': 'cuda>=9.0', 'OMP_NUM_THREADS': '18', 'HOSTNAME': 'aws', 'AWS_CONTAINER_CREDENTIALS_RELATIVE_URI': '/v2/credentials/d5799d35-dcff-4e89-9330-9a8bd4ae9f71', 'DMLC_ROLE': 'worker', 'PWD': '/', 'DMLC_NUM_SERVER': '1'}\u001b[0m\n",
      "\u001b[31m[07/18/2018 21:20:05 INFO 140654937917248] Using default worker.\u001b[0m\n",
      "\u001b[31m[07/18/2018 21:20:05 INFO 140654937917248] Loaded iterator creator application/x-recordio-protobuf for content type ('application/x-recordio-protobuf', '1.0')\u001b[0m\n",
      "\u001b[31m[07/18/2018 21:20:05 INFO 140654937917248] Create Store: dist_async\u001b[0m\n",
      "\u001b[32m[07/18/2018 21:20:05 INFO 139731077621568] Environment: {'PROTOCOL_BUFFERS_PYTHON_IMPLEMENTATION_VERSION': '2', 'DMLC_PS_ROOT_PORT': '9000', 'DMLC_NUM_WORKER': '2', 'SAGEMAKER_HTTP_PORT': '8080', 'HOME': '/root', 'PYTHONUNBUFFERED': 'TRUE', 'CANONICAL_ENVROOT': '/opt/amazon', 'LD_LIBRARY_PATH': '/usr/local/nvidia/lib64:/opt/amazon/lib', 'MXNET_KVSTORE_BIGARRAY_BOUND': '400000000', 'LANG': 'en_US.utf8', 'DMLC_INTERFACE': 'ethwe', 'SHLVL': '1', 'DMLC_PS_ROOT_URI': '10.40.0.3', 'AWS_REGION': 'ap-northeast-2', 'NVIDIA_VISIBLE_DEVICES': 'all', 'TRAINING_JOB_NAME': 'kmeans-2018-07-18-21-16-51-938', 'PATH': '/opt/amazon/bin:/usr/local/nvidia/bin:/usr/local/sbin:/usr/local/bin:/usr/sbin:/usr/bin:/sbin:/bin:/opt/amazon/bin:/opt/amazon/bin', 'PROTOCOL_BUFFERS_PYTHON_IMPLEMENTATION': 'cpp', 'ENVROOT': '/opt/amazon', 'SAGEMAKER_DATA_PATH': '/opt/ml', 'NVIDIA_DRIVER_CAPABILITIES': 'compute,utility', 'NVIDIA_REQUIRE_CUDA': 'cuda>=9.0', 'OMP_NUM_THREADS': '18', 'HOSTNAME': 'aws', 'AWS_CONTAINER_CREDENTIALS_RELATIVE_URI': '/v2/credentials/6c67a684-b624-4b37-b9e8-38bb0c4cf7da', 'DMLC_ROLE': 'worker', 'PWD': '/', 'DMLC_NUM_SERVER': '1'}\u001b[0m\n",
      "\u001b[32m[07/18/2018 21:20:05 INFO 139731077621568] Using default worker.\u001b[0m\n",
      "\u001b[32m[07/18/2018 21:20:05 INFO 139731077621568] Loaded iterator creator application/x-recordio-protobuf for content type ('application/x-recordio-protobuf', '1.0')\u001b[0m\n",
      "\u001b[32m[07/18/2018 21:20:05 INFO 139731077621568] Create Store: dist_async\u001b[0m\n",
      "\u001b[31m[07/18/2018 21:20:06 INFO 140654937917248] nvidia-smi took: 0.0251820087433 secs to identify 0 gpus\u001b[0m\n",
      "\u001b[31m[07/18/2018 21:20:06 INFO 140654937917248] Number of GPUs being used: 0\u001b[0m\n",
      "\u001b[31m[07/18/2018 21:20:06 INFO 140654937917248] Setting up with params: {u'k': u'10', u'_tuning_objective_metric': u'', u'_num_gpus': u'auto', u'local_lloyd_num_trials': u'auto', u'_log_level': u'info', u'_kvstore': u'auto', u'local_lloyd_init_method': u'kmeans++', u'force_dense': u'True', u'epochs': u'1', u'init_method': u'random', u'feature_dim': u'784', u'local_lloyd_tol': u'0.0001', u'local_lloyd_max_iter': u'300', u'_disable_wait_to_read': u'false', u'extra_center_factor': u'auto', u'eval_metrics': u'[\"msd\"]', u'_num_kv_servers': u'1', u'mini_batch_size': u'5000', u'half_life_time_size': u'0', u'_num_slices': u'1'}\u001b[0m\n",
      "\u001b[31m/opt/amazon/lib/python2.7/site-packages/ai_algorithms_sdk/config/config_helper.py:172: DeprecationWarning: deprecated\n",
      "  warnings.warn(\"deprecated\", DeprecationWarning)\u001b[0m\n",
      "\u001b[31m/opt/amazon/lib/python2.7/site-packages/ai_algorithms_sdk/config/config_helper.py:122: DeprecationWarning: deprecated\n",
      "  warnings.warn(\"deprecated\", DeprecationWarning)\u001b[0m\n",
      "\u001b[31m[07/18/2018 21:20:06 INFO 140654937917248] Number of GPUs being used: 0\u001b[0m\n",
      "\u001b[31m[07/18/2018 21:20:06 INFO 140654937917248] number of center slices 1\u001b[0m\n",
      "\u001b[31m#metrics {\"Metrics\": {\"Max Batches Seen Between Resets\": {\"count\": 1, \"max\": 1, \"sum\": 1.0, \"min\": 1}, \"Number of Batches Since Last Reset\": {\"count\": 1, \"max\": 1, \"sum\": 1.0, \"min\": 1}, \"Number of Records Since Last Reset\": {\"count\": 1, \"max\": 5000, \"sum\": 5000.0, \"min\": 5000}, \"Total Batches Seen\": {\"count\": 1, \"max\": 1, \"sum\": 1.0, \"min\": 1}, \"Total Records Seen\": {\"count\": 1, \"max\": 5000, \"sum\": 5000.0, \"min\": 5000}, \"Max Records Seen Between Resets\": {\"count\": 1, \"max\": 5000, \"sum\": 5000.0, \"min\": 5000}, \"Reset Count\": {\"count\": 1, \"max\": 0, \"sum\": 0.0, \"min\": 0}}, \"EndTime\": 1531948806.374805, \"Dimensions\": {\"Host\": \"algo-1\", \"Meta\": \"init_train_data_iter\", \"Operation\": \"training\", \"Algorithm\": \"AWS/KMeansWebscale\"}, \"StartTime\": 1531948806.374775}\n",
      "\u001b[0m\n",
      "\u001b[32m[07/18/2018 21:20:06 INFO 139731077621568] nvidia-smi took: 0.0252869129181 secs to identify 0 gpus\u001b[0m\n",
      "\u001b[32m[07/18/2018 21:20:06 INFO 139731077621568] Number of GPUs being used: 0\u001b[0m\n",
      "\u001b[32m[07/18/2018 21:20:06 INFO 139731077621568] Setting up with params: {u'k': u'10', u'_tuning_objective_metric': u'', u'_num_gpus': u'auto', u'local_lloyd_num_trials': u'auto', u'_log_level': u'info', u'_kvstore': u'auto', u'local_lloyd_init_method': u'kmeans++', u'force_dense': u'True', u'epochs': u'1', u'init_method': u'random', u'feature_dim': u'784', u'local_lloyd_tol': u'0.0001', u'local_lloyd_max_iter': u'300', u'_disable_wait_to_read': u'false', u'extra_center_factor': u'auto', u'eval_metrics': u'[\"msd\"]', u'_num_kv_servers': u'1', u'mini_batch_size': u'5000', u'half_life_time_size': u'0', u'_num_slices': u'1'}\u001b[0m\n",
      "\u001b[32m/opt/amazon/lib/python2.7/site-packages/ai_algorithms_sdk/config/config_helper.py:172: DeprecationWarning: deprecated\n",
      "  warnings.warn(\"deprecated\", DeprecationWarning)\u001b[0m\n",
      "\u001b[32m/opt/amazon/lib/python2.7/site-packages/ai_algorithms_sdk/config/config_helper.py:122: DeprecationWarning: deprecated\n",
      "  warnings.warn(\"deprecated\", DeprecationWarning)\u001b[0m\n",
      "\u001b[32m[07/18/2018 21:20:06 INFO 139731077621568] Number of GPUs being used: 0\u001b[0m\n",
      "\u001b[32m[07/18/2018 21:20:06 INFO 139731077621568] number of center slices 1\u001b[0m\n",
      "\u001b[32m#metrics {\"Metrics\": {\"Max Batches Seen Between Resets\": {\"count\": 1, \"max\": 1, \"sum\": 1.0, \"min\": 1}, \"Number of Batches Since Last Reset\": {\"count\": 1, \"max\": 1, \"sum\": 1.0, \"min\": 1}, \"Number of Records Since Last Reset\": {\"count\": 1, \"max\": 5000, \"sum\": 5000.0, \"min\": 5000}, \"Total Batches Seen\": {\"count\": 1, \"max\": 1, \"sum\": 1.0, \"min\": 1}, \"Total Records Seen\": {\"count\": 1, \"max\": 5000, \"sum\": 5000.0, \"min\": 5000}, \"Max Records Seen Between Resets\": {\"count\": 1, \"max\": 5000, \"sum\": 5000.0, \"min\": 5000}, \"Reset Count\": {\"count\": 1, \"max\": 0, \"sum\": 0.0, \"min\": 0}}, \"EndTime\": 1531948806.374629, \"Dimensions\": {\"Host\": \"algo-2\", \"Meta\": \"init_train_data_iter\", \"Operation\": \"training\", \"Algorithm\": \"AWS/KMeansWebscale\"}, \"StartTime\": 1531948806.374557}\n",
      "\u001b[0m\n",
      "\u001b[32m[07/18/2018 21:20:06 INFO 139731077621568] processed a total of 25000 examples\u001b[0m\n",
      "\u001b[32m[07/18/2018 21:20:06 INFO 139731077621568] #progress_metric: host=algo-2, completed 100 % of epochs\u001b[0m\n",
      "\u001b[32m#metrics {\"Metrics\": {\"Max Batches Seen Between Resets\": {\"count\": 1, \"max\": 5, \"sum\": 5.0, \"min\": 5}, \"Number of Batches Since Last Reset\": {\"count\": 1, \"max\": 5, \"sum\": 5.0, \"min\": 5}, \"Number of Records Since Last Reset\": {\"count\": 1, \"max\": 25000, \"sum\": 25000.0, \"min\": 25000}, \"Total Batches Seen\": {\"count\": 1, \"max\": 6, \"sum\": 6.0, \"min\": 6}, \"Total Records Seen\": {\"count\": 1, \"max\": 30000, \"sum\": 30000.0, \"min\": 30000}, \"Max Records Seen Between Resets\": {\"count\": 1, \"max\": 25000, \"sum\": 25000.0, \"min\": 25000}, \"Reset Count\": {\"count\": 1, \"max\": 1, \"sum\": 1.0, \"min\": 1}}, \"EndTime\": 1531948806.675076, \"Dimensions\": {\"Host\": \"algo-2\", \"Meta\": \"training_data_iter\", \"Operation\": \"training\", \"Algorithm\": \"AWS/KMeansWebscale\", \"epoch\": 0}, \"StartTime\": 1531948806.374911}\n",
      "\u001b[0m\n",
      "\u001b[32m[07/18/2018 21:20:06 INFO 139731077621568] #throughput_metric: host=algo-2, train throughput=83260.0311736 records/second\u001b[0m\n",
      "\u001b[32m[07/18/2018 21:20:06 INFO 139731077621568] shrinking 100 centers into 10\u001b[0m\n",
      "\u001b[32m[07/18/2018 21:20:06 INFO 139731077621568] local kmeans attempt #0. Current mean square distance 10.390306\u001b[0m\n",
      "\u001b[32m[07/18/2018 21:20:06 INFO 139731077621568] local kmeans attempt #1. Current mean square distance 10.287964\u001b[0m\n",
      "\u001b[32m[07/18/2018 21:20:06 INFO 139731077621568] local kmeans attempt #2. Current mean square distance 10.334036\u001b[0m\n",
      "\u001b[32m[07/18/2018 21:20:06 INFO 139731077621568] local kmeans attempt #3. Current mean square distance 10.473174\u001b[0m\n",
      "\u001b[32m[07/18/2018 21:20:06 INFO 139731077621568] local kmeans attempt #4. Current mean square distance 10.434717\u001b[0m\n",
      "\u001b[32m[07/18/2018 21:20:06 INFO 139731077621568] local kmeans attempt #5. Current mean square distance 10.575253\u001b[0m\n",
      "\u001b[32m[07/18/2018 21:20:06 INFO 139731077621568] local kmeans attempt #6. Current mean square distance 10.260448\u001b[0m\n",
      "\u001b[32m[07/18/2018 21:20:06 INFO 139731077621568] local kmeans attempt #7. Current mean square distance 10.042054\u001b[0m\n",
      "\u001b[32m[07/18/2018 21:20:06 INFO 139731077621568] local kmeans attempt #8. Current mean square distance 10.666219\u001b[0m\n",
      "\u001b[32m[07/18/2018 21:20:06 INFO 139731077621568] local kmeans attempt #9. Current mean square distance 10.215084\u001b[0m\n",
      "\u001b[32m[07/18/2018 21:20:06 INFO 139731077621568] finished shrinking process. Mean Square Distance = 10\u001b[0m\n",
      "\u001b[32m[07/18/2018 21:20:06 INFO 139731077621568] #quality_metric: host=algo-2, train msd <loss>=10.0420541763\u001b[0m\n",
      "\u001b[32m[07/18/2018 21:20:06 INFO 139731077621568] batch data loading with context took: 53.6066%, (0.161148 secs)\u001b[0m\n",
      "\u001b[32m[07/18/2018 21:20:06 INFO 139731077621568] compute all data-center distances: inner product took: 12.3748%, (0.037200 secs)\u001b[0m\n",
      "\u001b[32m[07/18/2018 21:20:06 INFO 139731077621568] compute all data-center distances: point norm took: 11.6970%, (0.035163 secs)\u001b[0m\n",
      "\u001b[32m[07/18/2018 21:20:06 INFO 139731077621568] predict compute msd took: 8.3321%, (0.025047 secs)\u001b[0m\n",
      "\u001b[32m[07/18/2018 21:20:06 INFO 139731077621568] collect from kv store took: 5.4288%, (0.016320 secs)\u001b[0m\n",
      "\u001b[32m[07/18/2018 21:20:06 INFO 139731077621568] gradient: cluster center took: 4.5939%, (0.013810 secs)\u001b[0m\n",
      "\u001b[32m[07/18/2018 21:20:06 INFO 139731077621568] gradient: cluster size  took: 1.1007%, (0.003309 secs)\u001b[0m\n",
      "\u001b[32m[07/18/2018 21:20:06 INFO 139731077621568] splitting centers key-value pair took: 1.0318%, (0.003102 secs)\u001b[0m\n",
      "\u001b[32m[07/18/2018 21:20:06 INFO 139731077621568] gradient: one_hot took: 0.9294%, (0.002794 secs)\u001b[0m\n",
      "\u001b[32m[07/18/2018 21:20:06 INFO 139731077621568] update state and report convergance took: 0.4222%, (0.001269 secs)\u001b[0m\n",
      "\u001b[32m[07/18/2018 21:20:06 INFO 139731077621568] compute all data-center distances: center norm took: 0.3825%, (0.001150 secs)\u001b[0m\n",
      "\u001b[32m[07/18/2018 21:20:06 INFO 139731077621568] update set-up time took: 0.0645%, (0.000194 secs)\u001b[0m\n",
      "\u001b[32m[07/18/2018 21:20:06 INFO 139731077621568] predict minus dist took: 0.0355%, (0.000107 secs)\u001b[0m\n",
      "\u001b[32m[07/18/2018 21:20:06 INFO 139731077621568] TOTAL took: 0.30061173439\u001b[0m\n",
      "\u001b[32m[07/18/2018 21:20:06 INFO 139731077621568] Number of GPUs being used: 0\u001b[0m\n",
      "\u001b[32m[07/18/2018 21:20:06 INFO 139731077621568] No model is serialized on a non-master node\u001b[0m\n",
      "\u001b[32m#metrics {\"Metrics\": {\"finalize.time\": {\"count\": 1, \"max\": 223.09494018554688, \"sum\": 223.09494018554688, \"min\": 223.09494018554688}, \"initialize.time\": {\"count\": 1, \"max\": 13.306856155395508, \"sum\": 13.306856155395508, \"min\": 13.306856155395508}, \"model.serialize.time\": {\"count\": 1, \"max\": 0.06699562072753906, \"sum\": 0.06699562072753906, \"min\": 0.06699562072753906}, \"update.time\": {\"count\": 1, \"max\": 300.0161647796631, \"sum\": 300.0161647796631, \"min\": 300.0161647796631}, \"epochs\": {\"count\": 1, \"max\": 1, \"sum\": 1.0, \"min\": 1}, \"state.serialize.time\": {\"count\": 1, \"max\": 0.4410743713378906, \"sum\": 0.4410743713378906, \"min\": 0.4410743713378906}, \"_shrink.time\": {\"count\": 1, \"max\": 219.41900253295898, \"sum\": 219.41900253295898, \"min\": 219.41900253295898}}, \"EndTime\": 1531948806.903902, \"Dimensions\": {\"Host\": \"algo-2\", \"Operation\": \"training\", \"Algorithm\": \"AWS/KMeansWebscale\"}, \"StartTime\": 1531948806.317073}\n",
      "\u001b[0m\n",
      "\u001b[32m[07/18/2018 21:20:06 INFO 139731077621568] Test data is not provided.\u001b[0m\n",
      "\u001b[32m#metrics {\"Metrics\": {\"totaltime\": {\"count\": 1, \"max\": 3230.7071685791016, \"sum\": 3230.7071685791016, \"min\": 3230.7071685791016}, \"setuptime\": {\"count\": 1, \"max\": 1516.88814163208, \"sum\": 1516.88814163208, \"min\": 1516.88814163208}}, \"EndTime\": 1531948806.906487, \"Dimensions\": {\"Host\": \"algo-2\", \"Operation\": \"training\", \"Algorithm\": \"AWS/KMeansWebscale\"}, \"StartTime\": 1531948806.903973}\n",
      "\u001b[0m\n",
      "\u001b[31m[07/18/2018 21:20:06 INFO 140654937917248] processed a total of 25000 examples\u001b[0m\n",
      "\u001b[31m[07/18/2018 21:20:06 INFO 140654937917248] #progress_metric: host=algo-1, completed 100 % of epochs\u001b[0m\n",
      "\u001b[31m#metrics {\"Metrics\": {\"Max Batches Seen Between Resets\": {\"count\": 1, \"max\": 5, \"sum\": 5.0, \"min\": 5}, \"Number of Batches Since Last Reset\": {\"count\": 1, \"max\": 5, \"sum\": 5.0, \"min\": 5}, \"Number of Records Since Last Reset\": {\"count\": 1, \"max\": 25000, \"sum\": 25000.0, \"min\": 25000}, \"Total Batches Seen\": {\"count\": 1, \"max\": 6, \"sum\": 6.0, \"min\": 6}, \"Total Records Seen\": {\"count\": 1, \"max\": 30000, \"sum\": 30000.0, \"min\": 30000}, \"Max Records Seen Between Resets\": {\"count\": 1, \"max\": 25000, \"sum\": 25000.0, \"min\": 25000}, \"Reset Count\": {\"count\": 1, \"max\": 1, \"sum\": 1.0, \"min\": 1}}, \"EndTime\": 1531948806.679853, \"Dimensions\": {\"Host\": \"algo-1\", \"Meta\": \"training_data_iter\", \"Operation\": \"training\", \"Algorithm\": \"AWS/KMeansWebscale\", \"epoch\": 0}, \"StartTime\": 1531948806.375096}\n",
      "\u001b[0m\n",
      "\u001b[31m[07/18/2018 21:20:06 INFO 140654937917248] #throughput_metric: host=algo-1, train throughput=81925.8244141 records/second\u001b[0m\n",
      "\u001b[31m[07/18/2018 21:20:06 INFO 140654937917248] shrinking 100 centers into 10\u001b[0m\n",
      "\u001b[31m[07/18/2018 21:20:06 INFO 140654937917248] local kmeans attempt #0. Current mean square distance 10.175884\u001b[0m\n",
      "\u001b[31m[07/18/2018 21:20:06 INFO 140654937917248] local kmeans attempt #1. Current mean square distance 10.418118\u001b[0m\n",
      "\u001b[31m[07/18/2018 21:20:06 INFO 140654937917248] local kmeans attempt #2. Current mean square distance 10.710690\u001b[0m\n",
      "\u001b[31m[07/18/2018 21:20:06 INFO 140654937917248] local kmeans attempt #3. Current mean square distance 10.420736\u001b[0m\n",
      "\u001b[31m[07/18/2018 21:20:06 INFO 140654937917248] local kmeans attempt #4. Current mean square distance 10.368505\u001b[0m\n",
      "\u001b[31m[07/18/2018 21:20:06 INFO 140654937917248] local kmeans attempt #5. Current mean square distance 10.684206\u001b[0m\n",
      "\u001b[31m[07/18/2018 21:20:06 INFO 140654937917248] local kmeans attempt #6. Current mean square distance 10.252088\u001b[0m\n",
      "\u001b[31m[07/18/2018 21:20:06 INFO 140654937917248] local kmeans attempt #7. Current mean square distance 10.385901\u001b[0m\n",
      "\u001b[31m[07/18/2018 21:20:06 INFO 140654937917248] local kmeans attempt #8. Current mean square distance 10.317125\u001b[0m\n",
      "\u001b[31m[07/18/2018 21:20:06 INFO 140654937917248] local kmeans attempt #9. Current mean square distance 10.390322\u001b[0m\n",
      "\u001b[31m[07/18/2018 21:20:06 INFO 140654937917248] finished shrinking process. Mean Square Distance = 10\u001b[0m\n",
      "\u001b[31m[07/18/2018 21:20:06 INFO 140654937917248] #quality_metric: host=algo-1, train msd <loss>=10.1758842468\u001b[0m\n",
      "\u001b[31m[07/18/2018 21:20:06 INFO 140654937917248] batch data loading with context took: 62.1567%, (0.189061 secs)\u001b[0m\n",
      "\u001b[31m[07/18/2018 21:20:06 INFO 140654937917248] compute all data-center distances: point norm took: 10.7632%, (0.032738 secs)\u001b[0m\n",
      "\u001b[31m[07/18/2018 21:20:06 INFO 140654937917248] predict compute msd took: 8.7560%, (0.026633 secs)\u001b[0m\n",
      "\u001b[31m[07/18/2018 21:20:06 INFO 140654937917248] compute all data-center distances: inner product took: 6.9035%, (0.020998 secs)\u001b[0m\n",
      "\u001b[31m[07/18/2018 21:20:06 INFO 140654937917248] gradient: cluster center took: 5.2510%, (0.015972 secs)\u001b[0m\n",
      "\u001b[31m[07/18/2018 21:20:06 INFO 140654937917248] collect from kv store took: 2.1015%, (0.006392 secs)\u001b[0m\n",
      "\u001b[31m[07/18/2018 21:20:06 INFO 140654937917248] gradient: cluster size  took: 1.1039%, (0.003358 secs)\u001b[0m\n",
      "\u001b[31m[07/18/2018 21:20:06 INFO 140654937917248] splitting centers key-value pair took: 1.0050%, (0.003057 secs)\u001b[0m\n",
      "\u001b[31m[07/18/2018 21:20:06 INFO 140654937917248] gradient: one_hot took: 0.9341%, (0.002841 secs)\u001b[0m\n",
      "\u001b[31m[07/18/2018 21:20:06 INFO 140654937917248] update state and report convergance took: 0.5227%, (0.001590 secs)\u001b[0m\n",
      "\u001b[31m[07/18/2018 21:20:06 INFO 140654937917248] compute all data-center distances: center norm took: 0.4012%, (0.001220 secs)\u001b[0m\n",
      "\u001b[31m[07/18/2018 21:20:06 INFO 140654937917248] update set-up time took: 0.0591%, (0.000180 secs)\u001b[0m\n",
      "\u001b[31m[07/18/2018 21:20:06 INFO 140654937917248] predict minus dist took: 0.0421%, (0.000128 secs)\u001b[0m\n",
      "\u001b[31m[07/18/2018 21:20:06 INFO 140654937917248] TOTAL took: 0.304168224335\u001b[0m\n",
      "\u001b[31m[07/18/2018 21:20:06 INFO 140654937917248] Number of GPUs being used: 0\u001b[0m\n",
      "\u001b[31m#metrics {\"Metrics\": {\"finalize.time\": {\"count\": 1, \"max\": 287.40715980529785, \"sum\": 287.40715980529785, \"min\": 287.40715980529785}, \"initialize.time\": {\"count\": 1, \"max\": 17.145156860351562, \"sum\": 17.145156860351562, \"min\": 17.145156860351562}, \"model.serialize.time\": {\"count\": 1, \"max\": 0.1811981201171875, \"sum\": 0.1811981201171875, \"min\": 0.1811981201171875}, \"update.time\": {\"count\": 1, \"max\": 304.3630123138428, \"sum\": 304.3630123138428, \"min\": 304.3630123138428}, \"epochs\": {\"count\": 1, \"max\": 1, \"sum\": 1.0, \"min\": 1}, \"state.serialize.time\": {\"count\": 1, \"max\": 0.4801750183105469, \"sum\": 0.4801750183105469, \"min\": 0.4801750183105469}, \"_shrink.time\": {\"count\": 1, \"max\": 285.51387786865234, \"sum\": 285.51387786865234, \"min\": 285.51387786865234}}, \"EndTime\": 1531948806.968998, \"Dimensions\": {\"Host\": \"algo-1\", \"Operation\": \"training\", \"Algorithm\": \"AWS/KMeansWebscale\"}, \"StartTime\": 1531948806.317096}\n",
      "\u001b[0m\n",
      "\u001b[31m[07/18/2018 21:20:06 INFO 140654937917248] Test data is not provided.\u001b[0m\n",
      "\u001b[31m#metrics {\"Metrics\": {\"totaltime\": {\"count\": 1, \"max\": 2346.261978149414, \"sum\": 2346.261978149414, \"min\": 2346.261978149414}, \"setuptime\": {\"count\": 1, \"max\": 521.2841033935547, \"sum\": 521.2841033935547, \"min\": 521.2841033935547}}, \"EndTime\": 1531948806.971516, \"Dimensions\": {\"Host\": \"algo-1\", \"Operation\": \"training\", \"Algorithm\": \"AWS/KMeansWebscale\"}, \"StartTime\": 1531948806.969073}\n",
      "\u001b[0m\n"
     ]
    },
    {
     "name": "stdout",
     "output_type": "stream",
     "text": [
      "===== Job Complete =====\n",
      "Billable seconds: 206\n",
      "CPU times: user 7.64 s, sys: 468 ms, total: 8.11 s\n",
      "Wall time: 3min 51s\n"
     ]
    }
   ],
   "source": [
    "%%time\n",
    "# 훈련시작\n",
    "kmeans.fit(kmeans.record_set(train_set[0]))"
   ]
  },
  {
   "cell_type": "markdown",
   "metadata": {},
   "source": [
    "### 3) 모델 배포"
   ]
  },
  {
   "cell_type": "code",
   "execution_count": 13,
   "metadata": {},
   "outputs": [
    {
     "name": "stderr",
     "output_type": "stream",
     "text": [
      "INFO:sagemaker:Creating model with name: kmeans-2018-07-18-21-21-19-404\n",
      "INFO:sagemaker:Creating endpoint with name kmeans-2018-07-18-21-16-51-938\n"
     ]
    },
    {
     "name": "stdout",
     "output_type": "stream",
     "text": [
      "--------------------------------------------------------------!CPU times: user 280 ms, sys: 16 ms, total: 296 ms\n",
      "Wall time: 5min 13s\n"
     ]
    }
   ],
   "source": [
    "%%time\n",
    "## 엔드포인트 객체 반환\n",
    "kmeans_predictor = kmeans.deploy(initial_instance_count=1, # 배포에 사용할 인스턴스 숫자와 타입\n",
    "                                 instance_type='ml.m4.xlarge')"
   ]
  },
  {
   "cell_type": "markdown",
   "metadata": {},
   "source": [
    "### 4) 모델 검증"
   ]
  },
  {
   "cell_type": "code",
   "execution_count": 14,
   "metadata": {},
   "outputs": [
    {
     "name": "stdout",
     "output_type": "stream",
     "text": [
      "\n",
      "\n",
      "\n",
      "Cluster 0:\n"
     ]
    },
    {
     "data": {
      "image/png": "[encoded data removed]",
      "text/plain": [
       "<Figure size 360x144 with 10 Axes>"
      ]
     },
     "metadata": {},
     "output_type": "display_data"
    },
    {
     "name": "stdout",
     "output_type": "stream",
     "text": [
      "\n",
      "\n",
      "\n",
      "Cluster 1:\n"
     ]
    },
    {
     "data": {
      "image/png": "[encoded data removed]",
      "text/plain": [
       "<Figure size 360x72 with 5 Axes>"
      ]
     },
     "metadata": {},
     "output_type": "display_data"
    },
    {
     "name": "stdout",
     "output_type": "stream",
     "text": [
      "\n",
      "\n",
      "\n",
      "Cluster 2:\n"
     ]
    },
    {
     "data": {
      "image/png": "[encoded data removed]",
      "text/plain": [
       "<Figure size 360x144 with 10 Axes>"
      ]
     },
     "metadata": {},
     "output_type": "display_data"
    },
    {
     "name": "stdout",
     "output_type": "stream",
     "text": [
      "\n",
      "\n",
      "\n",
      "Cluster 3:\n"
     ]
    },
    {
     "data": {
      "image/png": "[encoded data removed]",
      "text/plain": [
       "<Figure size 360x216 with 15 Axes>"
      ]
     },
     "metadata": {},
     "output_type": "display_data"
    },
    {
     "name": "stdout",
     "output_type": "stream",
     "text": [
      "\n",
      "\n",
      "\n",
      "Cluster 4:\n"
     ]
    },
    {
     "data": {
      "image/png": "[encoded data removed]",
      "text/plain": [
       "<Figure size 360x216 with 15 Axes>"
      ]
     },
     "metadata": {},
     "output_type": "display_data"
    },
    {
     "name": "stdout",
     "output_type": "stream",
     "text": [
      "\n",
      "\n",
      "\n",
      "Cluster 5:\n"
     ]
    },
    {
     "data": {
      "image/png": "[encoded data removed]",
      "text/plain": [
       "<Figure size 360x288 with 20 Axes>"
      ]
     },
     "metadata": {},
     "output_type": "display_data"
    },
    {
     "name": "stdout",
     "output_type": "stream",
     "text": [
      "\n",
      "\n",
      "\n",
      "Cluster 6:\n"
     ]
    },
    {
     "data": {
      "image/png": "[encoded data removed]",
      "text/plain": [
       "<Figure size 360x216 with 15 Axes>"
      ]
     },
     "metadata": {},
     "output_type": "display_data"
    },
    {
     "name": "stdout",
     "output_type": "stream",
     "text": [
      "\n",
      "\n",
      "\n",
      "Cluster 7:\n"
     ]
    },
    {
     "data": {
      "image/png": "[encoded data removed]",
      "text/plain": [
       "<Figure size 360x144 with 10 Axes>"
      ]
     },
     "metadata": {},
     "output_type": "display_data"
    },
    {
     "name": "stdout",
     "output_type": "stream",
     "text": [
      "\n",
      "\n",
      "\n",
      "Cluster 8:\n"
     ]
    },
    {
     "data": {
      "image/png": "[encoded data removed]",
      "text/plain": [
       "<Figure size 360x144 with 10 Axes>"
      ]
     },
     "metadata": {},
     "output_type": "display_data"
    },
    {
     "name": "stdout",
     "output_type": "stream",
     "text": [
      "\n",
      "\n",
      "\n",
      "Cluster 9:\n"
     ]
    },
    {
     "data": {
      "image/png": "[encoded data removed]",
      "text/plain": [
       "<Figure size 360x144 with 10 Axes>"
      ]
     },
     "metadata": {},
     "output_type": "display_data"
    },
    {
     "name": "stdout",
     "output_type": "stream",
     "text": [
      "CPU times: user 4.02 s, sys: 1.67 s, total: 5.68 s\n",
      "Wall time: 3.8 s\n"
     ]
    }
   ],
   "source": [
    "%%time \n",
    "\n",
    "result = kmeans_predictor.predict(valid_set[0][0:100])\n",
    "clusters = [r.label['closest_cluster'].float32_tensor.values[0] for r in result]\n",
    "\n",
    "for cluster in range(10):\n",
    "    print('\\n\\n\\nCluster {}:'.format(int(cluster)))\n",
    "    digits = [ img for l, img in zip(clusters, valid_set[0]) if int(l) == cluster ]\n",
    "    height=((len(digits)-1)//5)+1\n",
    "    width=5\n",
    "    plt.rcParams[\"figure.figsize\"] = (width,height)\n",
    "    _, subplots = plt.subplots(height, width)\n",
    "    subplots=numpy.ndarray.flatten(subplots)\n",
    "    for subplot, image in zip(subplots, digits):\n",
    "        show_digit(image, subplot=subplot)\n",
    "    for subplot in subplots[len(digits):]:\n",
    "        subplot.axis('off')\n",
    "\n",
    "    plt.show()"
   ]
  },
  {
   "cell_type": "markdown",
   "metadata": {},
   "source": [
    "### 5) Python 사용 예제"
   ]
  },
  {
   "cell_type": "code",
   "execution_count": null,
   "metadata": {},
   "outputs": [],
   "source": [
    "# 안돌아가요.\n",
    "import json\n",
    "\n",
    "# Simple function to create a csv from our numpy array\n",
    "def np2csv(arr):\n",
    "    csv = io.BytesIO()\n",
    "    numpy.savetxt(csv, arr, delimiter=',', fmt='%g')\n",
    "    return csv.getvalue().decode().rstrip()\n",
    "\n",
    "runtime = boto3.Session().client('sagemaker-runtime')\n",
    "\n",
    "payload = np2csv(train_set[0][30:31])\n",
    "\n",
    "response = runtime.invoke_endpoint(EndpointName=endpoint_name, \n",
    "                                   ContentType='text/csv', \n",
    "                                   Body=payload)\n",
    "result = json.loads(response['Body'].read().decode())\n",
    "print(result)"
   ]
  },
  {
   "cell_type": "markdown",
   "metadata": {},
   "source": [
    "### 6) 삭제\n",
    "1. SageMaker 엔드포인트 삭제\n",
    "2. 엔드포인트 삭제\n",
    "3. 모델 삭제\n",
    "5. 노트북 인스턴스 중지 및 삭제\n",
    "6. S3 버킷 삭제\n",
    "7. IAM 역할 삭제\n",
    "8. Amazon CloudWatch에서 이름이 /aws/sagemaker/로 시작하는 모든 로그 그룹을 삭제합니다."
   ]
  },
  {
   "cell_type": "code",
   "execution_count": null,
   "metadata": {},
   "outputs": [],
   "source": []
  }
 ],
 "metadata": {
  "kernelspec": {
   "display_name": "Python 3",
   "language": "python",
   "name": "python3"
  },
  "language_info": {
   "codemirror_mode": {
    "name": "ipython",
    "version": 3
   },
   "file_extension": ".py",
   "mimetype": "text/x-python",
   "name": "python",
   "nbconvert_exporter": "python",
   "pygments_lexer": "ipython3",
   "version": "3.6.4"
  }
 },
 "nbformat": 4,
 "nbformat_minor": 2
}
