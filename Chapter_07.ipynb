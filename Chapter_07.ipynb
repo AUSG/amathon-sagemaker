{
 "cells": [
  {
   "cell_type": "markdown",
   "metadata": {},
   "source": [
    "# Chapter 07\n",
    "- SageMaker에 내장된 k-means 알고리즘을 사용하여 모델 구축, 학습 배포를 진행해 본다.\n",
    "- k-means 알고리즘 : 클러스터링 알고리즘\n",
    "\n",
    "## 1) "
   ]
  }
 ],
 "metadata": {
  "kernelspec": {
   "display_name": "Python 3",
   "language": "python",
   "name": "python3"
  },
  "language_info": {
   "codemirror_mode": {
    "name": "ipython",
    "version": 3
   },
   "file_extension": ".py",
   "mimetype": "text/x-python",
   "name": "python",
   "nbconvert_exporter": "python",
   "pygments_lexer": "ipython3",
   "version": "3.6.4"
  }
 },
 "nbformat": 4,
 "nbformat_minor": 2
}
